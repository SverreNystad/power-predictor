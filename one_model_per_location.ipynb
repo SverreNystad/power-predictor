{
 "cells": [
  {
   "cell_type": "code",
   "execution_count": 34,
   "metadata": {},
   "outputs": [
    {
     "name": "stdout",
     "output_type": "stream",
     "text": [
      "Requirement already satisfied: xgboost in c:\\users\\gunna\\documents\\maskinlæring\\prosjekt\\power-predictor\\venv\\lib\\site-packages (2.0.0)\n",
      "Requirement already satisfied: scipy in c:\\users\\gunna\\documents\\maskinlæring\\prosjekt\\power-predictor\\venv\\lib\\site-packages (from xgboost) (1.11.2)\n",
      "Requirement already satisfied: numpy in c:\\users\\gunna\\documents\\maskinlæring\\prosjekt\\power-predictor\\venv\\lib\\site-packages (from xgboost) (1.26.0)\n",
      "Note: you may need to restart the kernel to use updated packages.\n"
     ]
    },
    {
     "name": "stderr",
     "output_type": "stream",
     "text": [
      "WARNING: You are using pip version 21.2.3; however, version 23.3 is available.\n",
      "You should consider upgrading via the 'c:\\Users\\gunna\\Documents\\Maskinlæring\\Prosjekt\\power-predictor\\venv\\Scripts\\python.exe -m pip install --upgrade pip' command.\n"
     ]
    }
   ],
   "source": [
    "import pandas as pd\n",
    "import numpy as np\n",
    "import matplotlib.pyplot as plt\n",
    "import seaborn as sns\n",
    "import xgboost as xgb\n",
    "from sklearn.model_selection import KFold\n",
    "from sklearn.preprocessing import MinMaxScaler\n",
    "\n",
    "from src.data.data_fetcher import get_all_features, get_raw_data\n",
    "from src.features.feature_engineering import prepare_data, get_location_datasets\n",
    "from src.features.preprocess_data import get_preprocessed_test_data, fetch_preprocessed_data, fetch_preprocessed_uniform_data\n",
    "pd.set_option('display.max_columns', 200)\n",
    "\n",
    "\n",
    "from sklearn.metrics import mean_absolute_error\n",
    "\n",
    "import warnings\n",
    "warnings.filterwarnings('ignore')\n",
    "\n",
    "\n",
    "%pip install xgboost"
   ]
  },
  {
   "cell_type": "code",
   "execution_count": 35,
   "metadata": {},
   "outputs": [],
   "source": [
    "train_a, train_b, train_c, X_train_estimated_a, X_train_estimated_b, X_train_estimated_c, X_train_observed_a, X_train_observed_b, X_train_observed_c, X_test_estimated_a, X_test_estimated_b, X_test_estimated_c = get_raw_data()\n",
    "\n",
    "X_train_obs_combined, X_val_obs_combined, y_train_obs_combined, y_val_obs_combined, X_train_est_combined, X_val_est_combined, y_train_est_combined, y_val_est_combined = fetch_preprocessed_data()\n",
    "X_test_estimated_a_processed, X_test_estimated_b_processed, X_test_estimated_c_processed = get_preprocessed_test_data()\n",
    "\n",
    "x_whole = pd.concat([X_train_obs_combined, X_val_obs_combined])\n",
    "y_whole = pd.concat([y_train_obs_combined, y_val_obs_combined])\n",
    "x_whole.reset_index(drop=True, inplace=True)\n",
    "y_whole.reset_index(drop=True, inplace=True)\n",
    "\n",
    "x_whole[\"pv_measurement\"] = y_whole\n",
    "x_a_train, x_b_train, x_c_train, y_a_train, y_b_train, y_c_train = get_location_datasets(x_whole)"
   ]
  },
  {
   "cell_type": "code",
   "execution_count": 36,
   "metadata": {},
   "outputs": [],
   "source": [
    "x_whole = pd.concat([X_train_est_combined, X_val_est_combined])\n",
    "y_whole = pd.concat([y_train_est_combined, y_val_est_combined])\n",
    "x_whole.reset_index(drop=True, inplace=True)\n",
    "y_whole.reset_index(drop=True, inplace=True)\n",
    "\n",
    "x_whole[\"pv_measurement\"] = y_whole\n",
    "x_a_test, x_b_test, x_c_test, y_a_test, y_b_test, y_c_test = get_location_datasets(x_whole)\n"
   ]
  },
  {
   "cell_type": "code",
   "execution_count": null,
   "metadata": {},
   "outputs": [],
   "source": []
  },
  {
   "cell_type": "code",
   "execution_count": 37,
   "metadata": {},
   "outputs": [
    {
     "name": "stdout",
     "output_type": "stream",
     "text": [
      "[0]\tvalidation_0-mae:748.15645\n",
      "[9]\tvalidation_0-mae:742.11812\n",
      "Location a, Fold 1, Mean Absolute Error: 846.5560624501098\n",
      "[0]\tvalidation_0-mae:746.58211\n",
      "[9]\tvalidation_0-mae:740.66160\n",
      "Location a, Fold 2, Mean Absolute Error: 854.689364268268\n",
      "[0]\tvalidation_0-mae:741.83699\n",
      "[9]\tvalidation_0-mae:735.89686\n",
      "Location a, Fold 3, Mean Absolute Error: 873.165303901145\n",
      "[0]\tvalidation_0-mae:744.41961\n",
      "[9]\tvalidation_0-mae:738.41715\n",
      "Location a, Fold 4, Mean Absolute Error: 866.5761249822966\n",
      "[0]\tvalidation_0-mae:742.84472\n",
      "[9]\tvalidation_0-mae:736.87239\n",
      "Location a, Fold 5, Mean Absolute Error: 857.5100863475576\n",
      "Location a, Average Mean Absolute Error: 859.6993883898755\n",
      "[0]\tvalidation_0-mae:114.39475\n",
      "[9]\tvalidation_0-mae:113.42786\n",
      "Location b, Fold 1, Mean Absolute Error: 142.2927025999762\n",
      "[0]\tvalidation_0-mae:114.96853\n",
      "[9]\tvalidation_0-mae:114.00939\n",
      "Location b, Fold 2, Mean Absolute Error: 141.58362910150177\n",
      "[0]\tvalidation_0-mae:115.17350\n",
      "[9]\tvalidation_0-mae:114.22302\n",
      "Location b, Fold 3, Mean Absolute Error: 141.20840222836014\n",
      "[0]\tvalidation_0-mae:113.64326\n",
      "[9]\tvalidation_0-mae:112.69391\n",
      "Location b, Fold 4, Mean Absolute Error: 146.43551311041227\n",
      "[0]\tvalidation_0-mae:114.49639\n",
      "[9]\tvalidation_0-mae:113.53895\n",
      "Location b, Fold 5, Mean Absolute Error: 142.07914154392898\n",
      "Location b, Average Mean Absolute Error: 142.71987771683584\n",
      "[0]\tvalidation_0-mae:91.44155\n",
      "[9]\tvalidation_0-mae:90.64716\n",
      "Location c, Fold 1, Mean Absolute Error: 116.29793334481425\n",
      "[0]\tvalidation_0-mae:91.93549\n",
      "[9]\tvalidation_0-mae:91.12914\n",
      "Location c, Fold 2, Mean Absolute Error: 113.72767448656488\n",
      "[0]\tvalidation_0-mae:91.35449\n",
      "[9]\tvalidation_0-mae:90.59978\n",
      "Location c, Fold 3, Mean Absolute Error: 117.62875583259077\n",
      "[0]\tvalidation_0-mae:91.01645\n",
      "[9]\tvalidation_0-mae:90.22008\n",
      "Location c, Fold 4, Mean Absolute Error: 118.82244259509262\n",
      "[0]\tvalidation_0-mae:90.33333\n",
      "[9]\tvalidation_0-mae:89.56378\n",
      "Location c, Fold 5, Mean Absolute Error: 118.57774507876303\n",
      "Location c, Average Mean Absolute Error: 117.01091026756512\n"
     ]
    }
   ],
   "source": [
    "from sklearn.model_selection import KFold\n",
    "from sklearn.metrics import mean_absolute_error\n",
    "import xgboost as xgb\n",
    "\n",
    "num_folds = 5\n",
    "kf = KFold(n_splits=num_folds, shuffle=True, random_state=42)\n",
    "\n",
    "# Store training and testing data for each location in dictionaries\n",
    "x_train_data = {'a': x_a_train, 'b': x_b_train, 'c': x_c_train}\n",
    "y_train_data = {'a': y_a_train, 'b': y_b_train, 'c': y_c_train}\n",
    "\n",
    "x_test_data = {'a': x_a_test, 'b': x_b_test, 'c': x_c_test}\n",
    "y_test_data = {'a': y_a_test, 'b': y_b_test, 'c': y_c_test}\n",
    "\n",
    "all_reg_models = []  # List to store regression models for all locations\n",
    "\n",
    "# Function to drop 'pv_measurement' column if it exists\n",
    "def drop_pv_measurement(dataframe):\n",
    "    if 'pv_measurement' in dataframe.columns:\n",
    "        return dataframe.drop('pv_measurement', axis=1)\n",
    "    return dataframe\n",
    "\n",
    "# Loop through locations\n",
    "for loc in ['a', 'b', 'c']:\n",
    "    reg_models = []\n",
    "    total_mae = 0\n",
    "    \n",
    "    # Get train and test data for the current location\n",
    "    x = drop_pv_measurement(x_train_data[loc])  # Drop 'pv_measurement' column\n",
    "    y_whole = y_train_data[loc]\n",
    "    \n",
    "    for train_index, val_index in kf.split(x):\n",
    "        reg = xgb.XGBRegressor(n_estimators=1000000,\n",
    "                               early_stopping_rounds=50,\n",
    "                               learning_rate=0.001,\n",
    "                               objective=\"reg:linear\",\n",
    "                               eval_metric=\"mae\",\n",
    "                               sub_sample=0.9,\n",
    "                               colsample_bytree=1.0,\n",
    "                               gamma=0,\n",
    "                               min_child_weight=0,\n",
    "                               max_depth=9)\n",
    "        \n",
    "        X_train, X_val = x.iloc[train_index], x.iloc[val_index]\n",
    "        y_train, y_val = y_whole.iloc[train_index], y_whole.iloc[val_index]\n",
    "        \n",
    "        # Drop 'pv_measurement' column from the test data too before fitting\n",
    "        reg.fit(X_train, y_train,\n",
    "                eval_set=[(drop_pv_measurement(x_test_data[loc]), y_test_data[loc])],\n",
    "                verbose=100)\n",
    "        \n",
    "        reg_models.append(reg)\n",
    "        predictions = reg.predict(X_val)\n",
    "        \n",
    "        mae = mean_absolute_error(y_val, predictions)\n",
    "        total_mae += mae\n",
    "        \n",
    "        print(f\"Location {loc}, Fold {len(reg_models)}, Mean Absolute Error: {mae}\")\n",
    "\n",
    "    average_mae = total_mae / num_folds\n",
    "    print(f\"Location {loc}, Average Mean Absolute Error: {average_mae}\")\n",
    "    \n",
    "    all_reg_models.append(reg_models)  # Add the models for the current location to the main list\n"
   ]
  },
  {
   "cell_type": "code",
   "execution_count": 38,
   "metadata": {},
   "outputs": [],
   "source": [
    "def multi_predict(x_values :pd.DataFrame, models) -> pd.DataFrame:\n",
    "    \"\"\"\n",
    "    Function for predicting on multiple models and averaging the results\n",
    "    \"\"\"\n",
    "    results = models[0].predict(x_values)\n",
    "    for model in models[1:]:\n",
    "        model: xgb.XGBRegressor\n",
    "        prediction = model.predict(x_values)\n",
    "        results += prediction\n",
    "    \n",
    "    results = results / len(models)\n",
    "\n",
    "    return results"
   ]
  },
  {
   "cell_type": "code",
   "execution_count": 39,
   "metadata": {},
   "outputs": [],
   "source": [
    "locations = [\"location_a\", \"location_b\", \"location_c\"]\n",
    "\n",
    "X_test_estimated_a_processed = X_test_estimated_a_processed.drop(locations, axis=1)\n",
    "X_test_estimated_b_processed = X_test_estimated_b_processed.drop(locations, axis=1)\n",
    "X_test_estimated_c_processed = X_test_estimated_c_processed.drop(locations, axis=1)\n",
    "\n"
   ]
  },
  {
   "cell_type": "code",
   "execution_count": 40,
   "metadata": {},
   "outputs": [
    {
     "data": {
      "text/plain": [
       "Index(['absolute_humidity_2m:gm3', 'air_density_2m:kgm3',\n",
       "       'clear_sky_energy_1h:J', 'clear_sky_rad:W', 'cloud_base_agl:m',\n",
       "       'dew_or_rime:idx', 'dew_point_2m:K', 'diffuse_rad:W',\n",
       "       'diffuse_rad_1h:J', 'direct_rad:W', 'direct_rad_1h:J',\n",
       "       'effective_cloud_cover:p', 'is_day:idx', 'is_in_shadow:idx',\n",
       "       'precip_5min:mm', 'precip_type_5min:idx', 'pressure_50m:hPa',\n",
       "       'prob_rime:p', 'rain_water:kgm2', 'relative_humidity_1000hPa:p',\n",
       "       'sun_azimuth:d', 'super_cooled_liquid_water:kgm2', 't_1000hPa:K',\n",
       "       'total_cloud_cover:p', 'visibility:m', 'wind_speed_10m:ms',\n",
       "       'wind_speed_u_10m:ms', 'wind_speed_v_10m:ms', 'wind_speed_w_1000hPa:ms',\n",
       "       'sin_day_of_year', 'cos_day_of_year', 'sin_hour', 'cos_hour',\n",
       "       'sun_product', 'modified_solar_elevation', 'effective_radiation',\n",
       "       'cloud_ratio', 'cloud_cover_over_30%', 'sun_addition', 'is_freezing',\n",
       "       'is_snow', 'is_rain'],\n",
       "      dtype='object')"
      ]
     },
     "execution_count": 40,
     "metadata": {},
     "output_type": "execute_result"
    }
   ],
   "source": [
    "X_test_estimated_c_processed.columns"
   ]
  },
  {
   "cell_type": "code",
   "execution_count": 41,
   "metadata": {},
   "outputs": [
    {
     "data": {
      "text/html": [
       "<div>\n",
       "<style scoped>\n",
       "    .dataframe tbody tr th:only-of-type {\n",
       "        vertical-align: middle;\n",
       "    }\n",
       "\n",
       "    .dataframe tbody tr th {\n",
       "        vertical-align: top;\n",
       "    }\n",
       "\n",
       "    .dataframe thead th {\n",
       "        text-align: right;\n",
       "    }\n",
       "</style>\n",
       "<table border=\"1\" class=\"dataframe\">\n",
       "  <thead>\n",
       "    <tr style=\"text-align: right;\">\n",
       "      <th></th>\n",
       "      <th>id</th>\n",
       "      <th>time</th>\n",
       "      <th>prediction</th>\n",
       "    </tr>\n",
       "  </thead>\n",
       "  <tbody>\n",
       "    <tr>\n",
       "      <th>count</th>\n",
       "      <td>2160.000000</td>\n",
       "      <td>2160</td>\n",
       "      <td>2160.000000</td>\n",
       "    </tr>\n",
       "    <tr>\n",
       "      <th>mean</th>\n",
       "      <td>1079.500000</td>\n",
       "      <td>2023-06-05 21:53:59.999999744</td>\n",
       "      <td>290.409668</td>\n",
       "    </tr>\n",
       "    <tr>\n",
       "      <th>min</th>\n",
       "      <td>0.000000</td>\n",
       "      <td>2023-05-01 00:00:00</td>\n",
       "      <td>84.642372</td>\n",
       "    </tr>\n",
       "    <tr>\n",
       "      <th>25%</th>\n",
       "      <td>539.750000</td>\n",
       "      <td>2023-05-23 11:45:00</td>\n",
       "      <td>88.050140</td>\n",
       "    </tr>\n",
       "    <tr>\n",
       "      <th>50%</th>\n",
       "      <td>1079.500000</td>\n",
       "      <td>2023-06-03 23:30:00</td>\n",
       "      <td>103.563084</td>\n",
       "    </tr>\n",
       "    <tr>\n",
       "      <th>75%</th>\n",
       "      <td>1619.250000</td>\n",
       "      <td>2023-06-19 11:15:00</td>\n",
       "      <td>668.267517</td>\n",
       "    </tr>\n",
       "    <tr>\n",
       "      <th>max</th>\n",
       "      <td>2159.000000</td>\n",
       "      <td>2023-07-03 23:00:00</td>\n",
       "      <td>713.925903</td>\n",
       "    </tr>\n",
       "    <tr>\n",
       "      <th>std</th>\n",
       "      <td>623.682612</td>\n",
       "      <td>NaN</td>\n",
       "      <td>275.720642</td>\n",
       "    </tr>\n",
       "  </tbody>\n",
       "</table>\n",
       "</div>"
      ],
      "text/plain": [
       "                id                           time   prediction\n",
       "count  2160.000000                           2160  2160.000000\n",
       "mean   1079.500000  2023-06-05 21:53:59.999999744   290.409668\n",
       "min       0.000000            2023-05-01 00:00:00    84.642372\n",
       "25%     539.750000            2023-05-23 11:45:00    88.050140\n",
       "50%    1079.500000            2023-06-03 23:30:00   103.563084\n",
       "75%    1619.250000            2023-06-19 11:15:00   668.267517\n",
       "max    2159.000000            2023-07-03 23:00:00   713.925903\n",
       "std     623.682612                            NaN   275.720642"
      ]
     },
     "execution_count": 41,
     "metadata": {},
     "output_type": "execute_result"
    }
   ],
   "source": [
    "# Predict on the cleaned validation set\n",
    "from src.features.preprocess_data import get_final_prediction\n",
    "\n",
    "y_val_pred_est_a = multi_predict(X_test_estimated_a_processed, all_reg_models[0])\n",
    "y_val_pred_est_b = multi_predict(X_test_estimated_b_processed, all_reg_models[1])\n",
    "y_val_pred_est_c = multi_predict(X_test_estimated_c_processed, all_reg_models[2])\n",
    "\n",
    "# Combine the predictions into a single array\n",
    "y_pred_test_est_combined = get_final_prediction(y_val_pred_est_a, y_val_pred_est_b, y_val_pred_est_c)\n",
    "y_pred_test_est_combined.shape\n",
    "\n",
    "y_pred_test_est_combined.describe()"
   ]
  },
  {
   "cell_type": "code",
   "execution_count": 42,
   "metadata": {},
   "outputs": [
    {
     "name": "stdout",
     "output_type": "stream",
     "text": [
      "   id  prediction\n",
      "0   0  667.778809\n",
      "1   1  667.778809\n",
      "2   2  667.778809\n",
      "3   3  667.778809\n",
      "4   4  670.068054\n",
      "Empty DataFrame\n",
      "Columns: [id, time, location, prediction]\n",
      "Index: []\n"
     ]
    }
   ],
   "source": [
    "from src.models.saving import save_predictions\n",
    "\n",
    "\n",
    "save_predictions(y_pred_test_est_combined, '3 models test')\n",
    "\n",
    "\n",
    "y_pred_test_est_combined.describe()\n",
    "print(y_pred_test_est_combined[y_pred_test_est_combined[\"prediction\"] < 0])"
   ]
  }
 ],
 "metadata": {
  "kernelspec": {
   "display_name": "venv",
   "language": "python",
   "name": "python3"
  },
  "language_info": {
   "codemirror_mode": {
    "name": "ipython",
    "version": 3
   },
   "file_extension": ".py",
   "mimetype": "text/x-python",
   "name": "python",
   "nbconvert_exporter": "python",
   "pygments_lexer": "ipython3",
   "version": "3.10.0"
  }
 },
 "nbformat": 4,
 "nbformat_minor": 2
}
