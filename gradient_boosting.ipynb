{
 "cells": [
  {
   "cell_type": "code",
   "execution_count": 16,
   "metadata": {},
   "outputs": [],
   "source": [
    "from sklearn.ensemble import GradientBoostingRegressor\n",
    "from sklearn.metrics import median_absolute_error\n",
    "from src.data.data_fetcher import get_raw_data\n",
    "from src.features.feature_engineering import prepare_data\n",
    "import pandas as pd"
   ]
  },
  {
   "cell_type": "code",
   "execution_count": 17,
   "metadata": {},
   "outputs": [],
   "source": [
    "\n",
    "\n",
    "train_a, train_b, train_c, X_train_estimated_a, X_train_estimated_b, X_train_estimated_c, X_train_observed_a, X_train_observed_b, X_train_observed_c, X_test_estimated_a, X_test_estimated_b, X_test_estimated_c = get_raw_data()"
   ]
  },
  {
   "cell_type": "code",
   "execution_count": 18,
   "metadata": {},
   "outputs": [
    {
     "ename": "InvalidIndexError",
     "evalue": "Reindexing only valid with uniquely valued Index objects",
     "output_type": "error",
     "traceback": [
      "\u001b[1;31m---------------------------------------------------------------------------\u001b[0m",
      "\u001b[1;31mInvalidIndexError\u001b[0m                         Traceback (most recent call last)",
      "\u001b[1;32mc:\\Users\\Bruker\\OneDrive\\NTNU semester 05\\TDT4173 Maskinlæring\\ml_power_predictor\\gradient_boosting.ipynb Cell 3\u001b[0m line \u001b[0;36m7\n\u001b[0;32m      <a href='vscode-notebook-cell:/c%3A/Users/Bruker/OneDrive/NTNU%20semester%2005/TDT4173%20Maskinl%C3%A6ring/ml_power_predictor/gradient_boosting.ipynb#W2sZmlsZQ%3D%3D?line=3'>4</a>\u001b[0m features_test \u001b[39m=\u001b[39m pd\u001b[39m.\u001b[39mconcat([X_test_estimated_a, X_test_estimated_b, X_test_estimated_c])\n\u001b[0;32m      <a href='vscode-notebook-cell:/c%3A/Users/Bruker/OneDrive/NTNU%20semester%2005/TDT4173%20Maskinl%C3%A6ring/ml_power_predictor/gradient_boosting.ipynb#W2sZmlsZQ%3D%3D?line=5'>6</a>\u001b[0m \u001b[39m# Call the function with the file paths\u001b[39;00m\n\u001b[1;32m----> <a href='vscode-notebook-cell:/c%3A/Users/Bruker/OneDrive/NTNU%20semester%2005/TDT4173%20Maskinl%C3%A6ring/ml_power_predictor/gradient_boosting.ipynb#W2sZmlsZQ%3D%3D?line=6'>7</a>\u001b[0m X_train, y_train, X_val, y_val, X_test, train_data, val_data \u001b[39m=\u001b[39m prepare_data(targets, \n\u001b[0;32m      <a href='vscode-notebook-cell:/c%3A/Users/Bruker/OneDrive/NTNU%20semester%2005/TDT4173%20Maskinl%C3%A6ring/ml_power_predictor/gradient_boosting.ipynb#W2sZmlsZQ%3D%3D?line=7'>8</a>\u001b[0m                                                                             features_observed, \n\u001b[0;32m      <a href='vscode-notebook-cell:/c%3A/Users/Bruker/OneDrive/NTNU%20semester%2005/TDT4173%20Maskinl%C3%A6ring/ml_power_predictor/gradient_boosting.ipynb#W2sZmlsZQ%3D%3D?line=8'>9</a>\u001b[0m                                                                             features_estimated, \n\u001b[0;32m     <a href='vscode-notebook-cell:/c%3A/Users/Bruker/OneDrive/NTNU%20semester%2005/TDT4173%20Maskinl%C3%A6ring/ml_power_predictor/gradient_boosting.ipynb#W2sZmlsZQ%3D%3D?line=9'>10</a>\u001b[0m                                                                             features_test)\n\u001b[0;32m     <a href='vscode-notebook-cell:/c%3A/Users/Bruker/OneDrive/NTNU%20semester%2005/TDT4173%20Maskinl%C3%A6ring/ml_power_predictor/gradient_boosting.ipynb#W2sZmlsZQ%3D%3D?line=11'>12</a>\u001b[0m \u001b[39m# Check the prepared DataFrames\u001b[39;00m\n\u001b[0;32m     <a href='vscode-notebook-cell:/c%3A/Users/Bruker/OneDrive/NTNU%20semester%2005/TDT4173%20Maskinl%C3%A6ring/ml_power_predictor/gradient_boosting.ipynb#W2sZmlsZQ%3D%3D?line=12'>13</a>\u001b[0m X_train\u001b[39m.\u001b[39mhead(\u001b[39m1\u001b[39m), y_train\u001b[39m.\u001b[39mhead(\u001b[39m1\u001b[39m), X_val\u001b[39m.\u001b[39mhead(\u001b[39m1\u001b[39m), y_val\u001b[39m.\u001b[39mhead(\u001b[39m1\u001b[39m), X_test\u001b[39m.\u001b[39mhead(\u001b[39m1\u001b[39m), train_data\u001b[39m.\u001b[39mhead(\u001b[39m1\u001b[39m), val_data\u001b[39m.\u001b[39mhead(\u001b[39m1\u001b[39m)\n",
      "File \u001b[1;32mc:\\Users\\Bruker\\OneDrive\\NTNU semester 05\\TDT4173 Maskinlæring\\ml_power_predictor\\src\\features\\feature_engineering.py:127\u001b[0m, in \u001b[0;36mprepare_data\u001b[1;34m(targets, features_observed, features_estimated, features_test)\u001b[0m\n\u001b[0;32m    124\u001b[0m features_test \u001b[39m=\u001b[39m features_test\u001b[39m.\u001b[39mresample(\u001b[39m'\u001b[39m\u001b[39m1H\u001b[39m\u001b[39m'\u001b[39m)\u001b[39m.\u001b[39mmean()\n\u001b[0;32m    126\u001b[0m \u001b[39m# Merge observed features and targets for training\u001b[39;00m\n\u001b[1;32m--> 127\u001b[0m train_data \u001b[39m=\u001b[39m pd\u001b[39m.\u001b[39;49mconcat([targets, features_observed], axis\u001b[39m=\u001b[39;49m\u001b[39m1\u001b[39;49m, join\u001b[39m=\u001b[39;49m\u001b[39m'\u001b[39;49m\u001b[39minner\u001b[39;49m\u001b[39m'\u001b[39;49m)\u001b[39m.\u001b[39mdropna()\n\u001b[0;32m    129\u001b[0m \u001b[39m# Merge estimated features and targets for validation\u001b[39;00m\n\u001b[0;32m    130\u001b[0m val_data \u001b[39m=\u001b[39m pd\u001b[39m.\u001b[39mconcat([targets, features_estimated], axis\u001b[39m=\u001b[39m\u001b[39m1\u001b[39m, join\u001b[39m=\u001b[39m\u001b[39m'\u001b[39m\u001b[39minner\u001b[39m\u001b[39m'\u001b[39m)\u001b[39m.\u001b[39mdropna()\n",
      "File \u001b[1;32mc:\\Users\\Bruker\\OneDrive\\NTNU semester 05\\TDT4173 Maskinlæring\\ml_power_predictor\\venv\\lib\\site-packages\\pandas\\core\\reshape\\concat.py:393\u001b[0m, in \u001b[0;36mconcat\u001b[1;34m(objs, axis, join, ignore_index, keys, levels, names, verify_integrity, sort, copy)\u001b[0m\n\u001b[0;32m    378\u001b[0m     copy \u001b[39m=\u001b[39m \u001b[39mFalse\u001b[39;00m\n\u001b[0;32m    380\u001b[0m op \u001b[39m=\u001b[39m _Concatenator(\n\u001b[0;32m    381\u001b[0m     objs,\n\u001b[0;32m    382\u001b[0m     axis\u001b[39m=\u001b[39maxis,\n\u001b[1;32m   (...)\u001b[0m\n\u001b[0;32m    390\u001b[0m     sort\u001b[39m=\u001b[39msort,\n\u001b[0;32m    391\u001b[0m )\n\u001b[1;32m--> 393\u001b[0m \u001b[39mreturn\u001b[39;00m op\u001b[39m.\u001b[39;49mget_result()\n",
      "File \u001b[1;32mc:\\Users\\Bruker\\OneDrive\\NTNU semester 05\\TDT4173 Maskinlæring\\ml_power_predictor\\venv\\lib\\site-packages\\pandas\\core\\reshape\\concat.py:676\u001b[0m, in \u001b[0;36m_Concatenator.get_result\u001b[1;34m(self)\u001b[0m\n\u001b[0;32m    674\u001b[0m         obj_labels \u001b[39m=\u001b[39m obj\u001b[39m.\u001b[39maxes[\u001b[39m1\u001b[39m \u001b[39m-\u001b[39m ax]\n\u001b[0;32m    675\u001b[0m         \u001b[39mif\u001b[39;00m \u001b[39mnot\u001b[39;00m new_labels\u001b[39m.\u001b[39mequals(obj_labels):\n\u001b[1;32m--> 676\u001b[0m             indexers[ax] \u001b[39m=\u001b[39m obj_labels\u001b[39m.\u001b[39;49mget_indexer(new_labels)\n\u001b[0;32m    678\u001b[0m     mgrs_indexers\u001b[39m.\u001b[39mappend((obj\u001b[39m.\u001b[39m_mgr, indexers))\n\u001b[0;32m    680\u001b[0m new_data \u001b[39m=\u001b[39m concatenate_managers(\n\u001b[0;32m    681\u001b[0m     mgrs_indexers, \u001b[39mself\u001b[39m\u001b[39m.\u001b[39mnew_axes, concat_axis\u001b[39m=\u001b[39m\u001b[39mself\u001b[39m\u001b[39m.\u001b[39mbm_axis, copy\u001b[39m=\u001b[39m\u001b[39mself\u001b[39m\u001b[39m.\u001b[39mcopy\n\u001b[0;32m    682\u001b[0m )\n",
      "File \u001b[1;32mc:\\Users\\Bruker\\OneDrive\\NTNU semester 05\\TDT4173 Maskinlæring\\ml_power_predictor\\venv\\lib\\site-packages\\pandas\\core\\indexes\\base.py:3874\u001b[0m, in \u001b[0;36mIndex.get_indexer\u001b[1;34m(self, target, method, limit, tolerance)\u001b[0m\n\u001b[0;32m   3871\u001b[0m \u001b[39mself\u001b[39m\u001b[39m.\u001b[39m_check_indexing_method(method, limit, tolerance)\n\u001b[0;32m   3873\u001b[0m \u001b[39mif\u001b[39;00m \u001b[39mnot\u001b[39;00m \u001b[39mself\u001b[39m\u001b[39m.\u001b[39m_index_as_unique:\n\u001b[1;32m-> 3874\u001b[0m     \u001b[39mraise\u001b[39;00m InvalidIndexError(\u001b[39mself\u001b[39m\u001b[39m.\u001b[39m_requires_unique_msg)\n\u001b[0;32m   3876\u001b[0m \u001b[39mif\u001b[39;00m \u001b[39mlen\u001b[39m(target) \u001b[39m==\u001b[39m \u001b[39m0\u001b[39m:\n\u001b[0;32m   3877\u001b[0m     \u001b[39mreturn\u001b[39;00m np\u001b[39m.\u001b[39marray([], dtype\u001b[39m=\u001b[39mnp\u001b[39m.\u001b[39mintp)\n",
      "\u001b[1;31mInvalidIndexError\u001b[0m: Reindexing only valid with uniquely valued Index objects"
     ]
    }
   ],
   "source": [
    "targets = pd.concat([train_a, train_b, train_c], keys=['A', 'B', 'C'])\n",
    "features_observed = pd.concat([X_train_observed_a, X_train_observed_b, X_train_observed_c], keys=['A', 'B', 'C'])\n",
    "features_estimated = pd.concat([X_train_estimated_a, X_train_estimated_b, X_train_estimated_c], keys=['A', 'B', 'C'])\n",
    "features_test = pd.concat([X_test_estimated_a, X_test_estimated_b, X_test_estimated_c], keys=['A', 'B', 'C'])\n",
    "\n",
    "# Call the function with the file paths\n",
    "X_train, y_train, X_val, y_val, X_test, train_data, val_data = prepare_data(targets, \n",
    "                                                                            features_observed, \n",
    "                                                                            features_estimated, \n",
    "                                                                            features_test)\n",
    "\n",
    "# Check the prepared DataFrames\n",
    "X_train.head(1), y_train.head(1), X_val.head(1), y_val.head(1), X_test.head(1), train_data.head(1), val_data.head(1)\n"
   ]
  },
  {
   "cell_type": "code",
   "execution_count": null,
   "metadata": {},
   "outputs": [
    {
     "data": {
      "text/plain": [
       "2.1565437765303805"
      ]
     },
     "execution_count": 13,
     "metadata": {},
     "output_type": "execute_result"
    }
   ],
   "source": [
    "# X_val contains features not present in X_train\n",
    "# Drop those features from X_val\n",
    "X_val = X_val.drop(['date_calc'], axis=1)\n",
    "\n",
    "# Initialize a Gradient Boosting regressor\n",
    "gb_model = GradientBoostingRegressor(n_estimators=100, random_state=42)\n",
    "\n",
    "# Train the Gradient Boosting model on the cleaned training data\n",
    "gb_model.fit(X_train, y_train)\n",
    "\n",
    "# Predict on the cleaned validation set\n",
    "y_val_pred_gb = gb_model.predict(X_val)\n",
    "\n",
    "# Evaluate the Gradient Boosting model using MAE on the cleaned validation set\n",
    "mae_gb = median_absolute_error(y_val, y_val_pred_gb)\n",
    "mae_gb\n"
   ]
  }
 ],
 "metadata": {
  "kernelspec": {
   "display_name": "venv",
   "language": "python",
   "name": "python3"
  },
  "language_info": {
   "codemirror_mode": {
    "name": "ipython",
    "version": 3
   },
   "file_extension": ".py",
   "mimetype": "text/x-python",
   "name": "python",
   "nbconvert_exporter": "python",
   "pygments_lexer": "ipython3",
   "version": "3.9.13"
  },
  "orig_nbformat": 4
 },
 "nbformat": 4,
 "nbformat_minor": 2
}
