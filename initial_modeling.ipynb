{
 "cells": [
  {
   "cell_type": "markdown",
   "metadata": {},
   "source": [
    "# Initial Model Building\n",
    "This file is responsible for Train-test split. Training basic models to get a baseline performance. Evaluating models using chosen metrics (e.g., accuracy, F1-score, RMSE).\n",
    "Our evaluation is based on MAE."
   ]
  },
  {
   "cell_type": "code",
   "execution_count": 1,
   "metadata": {},
   "outputs": [],
   "source": [
    "import pandas as pd\n",
    "from src.data.data_fetcher import get_all_features, get_raw_data"
   ]
  },
  {
   "cell_type": "code",
   "execution_count": 2,
   "metadata": {},
   "outputs": [
    {
     "name": "stdout",
     "output_type": "stream",
     "text": [
      "Index(['date_calc', 'date_forecast', 'absolute_humidity_2m:gm3',\n",
      "       'air_density_2m:kgm3', 'ceiling_height_agl:m', 'clear_sky_energy_1h:J',\n",
      "       'clear_sky_rad:W', 'cloud_base_agl:m', 'dew_or_rime:idx',\n",
      "       'dew_point_2m:K', 'diffuse_rad:W', 'diffuse_rad_1h:J', 'direct_rad:W',\n",
      "       'direct_rad_1h:J', 'effective_cloud_cover:p', 'elevation:m',\n",
      "       'fresh_snow_12h:cm', 'fresh_snow_1h:cm', 'fresh_snow_24h:cm',\n",
      "       'fresh_snow_3h:cm', 'fresh_snow_6h:cm', 'is_day:idx',\n",
      "       'is_in_shadow:idx', 'msl_pressure:hPa', 'precip_5min:mm',\n",
      "       'precip_type_5min:idx', 'pressure_100m:hPa', 'pressure_50m:hPa',\n",
      "       'prob_rime:p', 'rain_water:kgm2', 'relative_humidity_1000hPa:p',\n",
      "       'sfc_pressure:hPa', 'snow_density:kgm3', 'snow_depth:cm',\n",
      "       'snow_drift:idx', 'snow_melt_10min:mm', 'snow_water:kgm2',\n",
      "       'sun_azimuth:d', 'sun_elevation:d', 'super_cooled_liquid_water:kgm2',\n",
      "       't_1000hPa:K', 'total_cloud_cover:p', 'visibility:m',\n",
      "       'wind_speed_10m:ms', 'wind_speed_u_10m:ms', 'wind_speed_v_10m:ms',\n",
      "       'wind_speed_w_1000hPa:ms'],\n",
      "      dtype='object')\n"
     ]
    }
   ],
   "source": [
    "train_a, train_b, train_c, X_train_estimated_a, X_train_estimated_b, X_train_estimated_c, X_train_observed_a, X_train_observed_b, X_train_observed_c, X_test_estimated_a, X_test_estimated_b, X_test_estimated_c = get_raw_data()\n",
    "all_features = get_all_features()\n"
   ]
  },
  {
   "cell_type": "markdown",
   "metadata": {},
   "source": [
    "### Linear regression model"
   ]
  },
  {
   "cell_type": "code",
   "execution_count": 20,
   "metadata": {},
   "outputs": [],
   "source": [
    "# Remove all columns that are objects\n",
    "X_train_estimated_a['year']    = X_train_estimated_a['date_forecast'].dt.year\n",
    "X_train_estimated_a['month']   = X_train_estimated_a['date_forecast'].dt.month\n",
    "X_train_estimated_a['day']     = X_train_estimated_a['date_forecast'].dt.day\n",
    "X_train_estimated_a['weekday'] = X_train_estimated_a['date_forecast'].dt.weekday\n",
    "X_test_estimated_a.drop(columns=['date_forecast'], inplace=True)\n",
    "X_test_estimated_a.drop(columns=['date_calc'], inplace=True)\n",
    "\n",
    "train_a['year']    = train_a['time'].dt.year\n",
    "train_a['month']   = train_a['time'].dt.month\n",
    "train_a['day']     = train_a['time'].dt.day\n",
    "train_a['weekday'] = train_a['time'].dt.weekday\n",
    "train_a.drop(columns=['time'], inplace=True)\n"
   ]
  },
  {
   "cell_type": "code",
   "execution_count": 26,
   "metadata": {},
   "outputs": [
    {
     "data": {
      "text/plain": [
       "absolute_humidity_2m:gm3          float32\n",
       "air_density_2m:kgm3               float32\n",
       "ceiling_height_agl:m              float32\n",
       "clear_sky_energy_1h:J             float32\n",
       "clear_sky_rad:W                   float32\n",
       "cloud_base_agl:m                  float32\n",
       "dew_or_rime:idx                   float32\n",
       "dew_point_2m:K                    float32\n",
       "diffuse_rad:W                     float32\n",
       "diffuse_rad_1h:J                  float32\n",
       "direct_rad:W                      float32\n",
       "direct_rad_1h:J                   float32\n",
       "effective_cloud_cover:p           float32\n",
       "elevation:m                       float32\n",
       "fresh_snow_12h:cm                 float32\n",
       "fresh_snow_1h:cm                  float32\n",
       "fresh_snow_24h:cm                 float32\n",
       "fresh_snow_3h:cm                  float32\n",
       "fresh_snow_6h:cm                  float32\n",
       "is_day:idx                        float32\n",
       "is_in_shadow:idx                  float32\n",
       "msl_pressure:hPa                  float32\n",
       "precip_5min:mm                    float32\n",
       "precip_type_5min:idx              float32\n",
       "pressure_100m:hPa                 float32\n",
       "pressure_50m:hPa                  float32\n",
       "prob_rime:p                       float32\n",
       "rain_water:kgm2                   float32\n",
       "relative_humidity_1000hPa:p       float32\n",
       "sfc_pressure:hPa                  float32\n",
       "snow_density:kgm3                 float32\n",
       "snow_depth:cm                     float32\n",
       "snow_drift:idx                    float32\n",
       "snow_melt_10min:mm                float32\n",
       "snow_water:kgm2                   float32\n",
       "sun_azimuth:d                     float32\n",
       "sun_elevation:d                   float32\n",
       "super_cooled_liquid_water:kgm2    float32\n",
       "t_1000hPa:K                       float32\n",
       "total_cloud_cover:p               float32\n",
       "visibility:m                      float32\n",
       "wind_speed_10m:ms                 float32\n",
       "wind_speed_u_10m:ms               float32\n",
       "wind_speed_v_10m:ms               float32\n",
       "wind_speed_w_1000hPa:ms           float32\n",
       "dtype: object"
      ]
     },
     "execution_count": 26,
     "metadata": {},
     "output_type": "execute_result"
    }
   ],
   "source": [
    "\n",
    "X_test_estimated_a.dtypes"
   ]
  },
  {
   "cell_type": "code",
   "execution_count": 36,
   "metadata": {},
   "outputs": [
    {
     "ename": "ValueError",
     "evalue": "maximum supported dimension for an ndarray is 32, found 17576",
     "output_type": "error",
     "traceback": [
      "\u001b[1;31m---------------------------------------------------------------------------\u001b[0m",
      "\u001b[1;31mValueError\u001b[0m                                Traceback (most recent call last)",
      "\u001b[1;32mc:\\Users\\Bruker\\OneDrive\\NTNU semester 05\\TDT4173 Maskinlæring\\sun-goose-fighter\\exploration\\initial_modeling.ipynb Cell 7\u001b[0m line \u001b[0;36m8\n\u001b[0;32m      <a href='vscode-notebook-cell:/c%3A/Users/Bruker/OneDrive/NTNU%20semester%2005/TDT4173%20Maskinl%C3%A6ring/sun-goose-fighter/exploration/initial_modeling.ipynb#X13sZmlsZQ%3D%3D?line=4'>5</a>\u001b[0m X_train_estimated_a: pd\u001b[39m.\u001b[39mDataFrame\n\u001b[0;32m      <a href='vscode-notebook-cell:/c%3A/Users/Bruker/OneDrive/NTNU%20semester%2005/TDT4173%20Maskinl%C3%A6ring/sun-goose-fighter/exploration/initial_modeling.ipynb#X13sZmlsZQ%3D%3D?line=5'>6</a>\u001b[0m train_a: pd\u001b[39m.\u001b[39mDataFrame\n\u001b[1;32m----> <a href='vscode-notebook-cell:/c%3A/Users/Bruker/OneDrive/NTNU%20semester%2005/TDT4173%20Maskinl%C3%A6ring/sun-goose-fighter/exploration/initial_modeling.ipynb#X13sZmlsZQ%3D%3D?line=7'>8</a>\u001b[0m np_x_data \u001b[39m=\u001b[39m np\u001b[39m.\u001b[39;49mndarray(X_train_estimated_a\u001b[39m.\u001b[39;49mvalues)\n\u001b[0;32m      <a href='vscode-notebook-cell:/c%3A/Users/Bruker/OneDrive/NTNU%20semester%2005/TDT4173%20Maskinl%C3%A6ring/sun-goose-fighter/exploration/initial_modeling.ipynb#X13sZmlsZQ%3D%3D?line=8'>9</a>\u001b[0m np_y_data \u001b[39m=\u001b[39m np\u001b[39m.\u001b[39mndarray(train_a\u001b[39m.\u001b[39mvalues)\n\u001b[0;32m     <a href='vscode-notebook-cell:/c%3A/Users/Bruker/OneDrive/NTNU%20semester%2005/TDT4173%20Maskinl%C3%A6ring/sun-goose-fighter/exploration/initial_modeling.ipynb#X13sZmlsZQ%3D%3D?line=9'>10</a>\u001b[0m x_data \u001b[39m=\u001b[39m Variable(torch\u001b[39m.\u001b[39mfrom_numpy(np_x_data))\n",
      "\u001b[1;31mValueError\u001b[0m: maximum supported dimension for an ndarray is 32, found 17576"
     ]
    }
   ],
   "source": [
    "from torch.autograd import Variable\n",
    "import torch\n",
    "import numpy as np\n",
    "\n",
    "X_train_estimated_a: pd.DataFrame\n",
    "train_a: pd.DataFrame\n",
    "\n",
    "np_x_data = np.asarray(X_train_estimated_a.values)\n",
    "np_y_data = np.asarray(train_a.values)\n",
    "x_data = Variable(torch.from_numpy(np_x_data))\n",
    "y_data = Variable(torch.from_numpy(np_y_data))"
   ]
  },
  {
   "cell_type": "code",
   "execution_count": 34,
   "metadata": {},
   "outputs": [],
   "source": [
    "\n",
    "\n",
    "\n",
    "\n",
    "class LinearRegressionModel(torch.nn.Module):\n",
    " \n",
    "    def __init__(self, amount_of_features:int, amount_of_outputs:int):\n",
    "        super(LinearRegressionModel, self).__init__()\n",
    "        self.linear = torch.nn.Linear(amount_of_features, amount_of_outputs)  # One in and one out\n",
    " \n",
    "    def forward(self, x):\n",
    "        y_pred = self.linear(x)\n",
    "        return y_pred"
   ]
  },
  {
   "cell_type": "code",
   "execution_count": 33,
   "metadata": {},
   "outputs": [
    {
     "name": "stderr",
     "output_type": "stream",
     "text": [
      "c:\\Users\\Bruker\\OneDrive\\NTNU semester 05\\TDT4173 Maskinlæring\\sun-goose-fighter\\venv\\lib\\site-packages\\torch\\nn\\_reduction.py:42: UserWarning: size_average and reduce args will be deprecated, please use reduction='sum' instead.\n",
      "  warnings.warn(warning.format(ret))\n"
     ]
    }
   ],
   "source": [
    "our_model = LinearRegressionModel(1,1)\n",
    "criterion = torch.nn.MSELoss(size_average = False)\n",
    "optimizer = torch.optim.SGD(our_model.parameters(), lr = 0.01)"
   ]
  },
  {
   "cell_type": "code",
   "execution_count": null,
   "metadata": {},
   "outputs": [],
   "source": [
    "\n",
    "for epoch in range(10):\n",
    " \n",
    "    # Forward pass: Compute predicted y by passing\n",
    "    # x to the model\n",
    "    pred_y = our_model(x_data)\n",
    " \n",
    "    # Compute and print loss\n",
    "    loss = criterion(pred_y, y_data)\n",
    " \n",
    "    # Zero gradients, perform a backward pass,\n",
    "    # and update the weights.\n",
    "    optimizer.zero_grad()\n",
    "    loss.backward()\n",
    "    optimizer.step()\n",
    "    print('epoch {}, loss {}'.format(epoch, loss.item()))"
   ]
  },
  {
   "cell_type": "code",
   "execution_count": null,
   "metadata": {},
   "outputs": [],
   "source": [
    "\n",
    "new_var = Variable(torch.Tensor([[4.0]]))\n",
    "pred_y = our_model(new_var)\n",
    "print(\"predict (after training)\", 4, our_model(new_var).item())"
   ]
  }
 ],
 "metadata": {
  "kernelspec": {
   "display_name": "venv",
   "language": "python",
   "name": "python3"
  },
  "language_info": {
   "codemirror_mode": {
    "name": "ipython",
    "version": 3
   },
   "file_extension": ".py",
   "mimetype": "text/x-python",
   "name": "python",
   "nbconvert_exporter": "python",
   "pygments_lexer": "ipython3",
   "version": "3.9.13"
  },
  "orig_nbformat": 4
 },
 "nbformat": 4,
 "nbformat_minor": 2
}
