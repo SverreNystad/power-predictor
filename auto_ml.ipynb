{
 "cells": [
  {
   "cell_type": "code",
   "execution_count": 1,
   "metadata": {},
   "outputs": [],
   "source": [
    "# Import the necessary libraries\n",
    "%matplotlib inline\n",
    "import numpy as np\n",
    "import pandas as pd\n",
    "import time\n",
    "from sklearn.model_selection import train_test_split as tts\n",
    "from sklearn.metrics import accuracy_score as acs_score\n",
    "\n",
    "%pip install mljar-supervised\n",
    "from supervised.automl import AutoML\n",
    "\n",
    "from src.data.data_fetcher import get_raw_data\n",
    "from src.features.preprocess_data import get_preprocessed_test_data, fetch_preprocessed_data, get_final_prediction\n",
    "pd.set_option('display.max_columns', 200)\n",
    "\n",
    "from sklearn.metrics import mean_absolute_error\n",
    "\n",
    "import warnings\n",
    "warnings.filterwarnings('ignore')"
   ]
  },
  {
   "cell_type": "markdown",
   "metadata": {},
   "source": []
  },
  {
   "cell_type": "code",
   "execution_count": null,
   "metadata": {},
   "outputs": [],
   "source": [
    "# Prepare data\n",
    "train_a, train_b, train_c, X_train_estimated_a, X_train_estimated_b, X_train_estimated_c, X_train_observed_a, X_train_observed_b, X_train_observed_c, X_test_estimated_a, X_test_estimated_b, X_test_estimated_c = get_raw_data()\n",
    "\n",
    "X_train_obs_combined, X_val_obs_combined, y_train_obs_combined, y_val_obs_combined, X_train_est_combined, X_val_est_combined, y_train_est_combined, y_val_est_combined = fetch_preprocessed_data()\n",
    "X_test_estimated_a_processed, X_test_estimated_b_processed, X_test_estimated_c_processed = get_preprocessed_test_data()\n",
    "\n",
    "x_whole = pd.concat([X_train_obs_combined, X_val_obs_combined])\n",
    "y_whole = pd.concat([y_train_obs_combined, y_val_obs_combined])\n",
    "x_whole.reset_index(drop=True, inplace=True)\n",
    "y_whole.reset_index(drop=True, inplace=True)\n",
    "\n",
    "x_whole.head()"
   ]
  },
  {
   "cell_type": "code",
   "execution_count": null,
   "metadata": {},
   "outputs": [],
   "source": [
    "# Set up and run AutoML\n",
    "automl = AutoML(\n",
    "    mode='Compete', \n",
    "    total_time_limit=1, \n",
    "    ml_task='regression',\n",
    "    eval_metric='mae', \n",
    "    validation_strategy={\n",
    "        \"validation_type\": \"kfold\", \n",
    "        \"k_folds\": 5, \n",
    "        \"shuffle\": True, \n",
    "        \"stratify\": False,\n",
    "        \"random_seed\": 42\n",
    "    }, \n",
    "    random_state=42,\n",
    "    n_jobs=-1, \n",
    "    golden_features=True\n",
    ")\n",
    "\n",
    "automl.fit(x_whole, y_whole)"
   ]
  },
  {
   "cell_type": "code",
   "execution_count": null,
   "metadata": {},
   "outputs": [],
   "source": [
    "\n",
    "test_prediction = automl.predict(X_val_est_combined)\n",
    "\n",
    "# Evaluate the best model on the validation subset of the observed dataset\n",
    "# leaderboard = automl.get_leaderboard()\n",
    "# print(leaderboard)\n",
    "\n",
    "mae_observed = mean_absolute_error(y_val_est_combined, test_prediction)\n",
    "\n",
    "print(f'Mean Absolute Error on Validation Set: {mae_observed}')"
   ]
  },
  {
   "cell_type": "code",
   "execution_count": null,
   "metadata": {},
   "outputs": [],
   "source": [
    "import matplotlib.pyplot as plt\n",
    "\n",
    "# Set up the plotting area\n",
    "plt.figure(figsize=(12, 6))\n",
    "# Line plot of Actual values\n",
    "plt.plot(y_val_est_combined.reset_index(drop=True), label='Actual', linestyle='-', marker='o', markersize=5, alpha=0.7, color='blue')\n",
    "# Line plot of Predicted values\n",
    "plt.plot(test_prediction, label='Predicted', linestyle='--', marker='x', markersize=5, alpha=0.7, color='orange')\n",
    "# Titles and labels\n",
    "plt.title('Actual vs Predicted - Observed Data', fontsize=16)\n",
    "plt.legend()\n",
    "plt.grid(True)\n",
    "plt.tight_layout()\n",
    "plt.show()"
   ]
  },
  {
   "cell_type": "code",
   "execution_count": null,
   "metadata": {},
   "outputs": [],
   "source": [
    "# Evaluate the best model on the validation subset of the observed dataset\n",
    "y_pred_a = automl.predict(X_test_estimated_a_processed)\n",
    "y_pred_b = automl.predict(X_test_estimated_b_processed)\n",
    "y_pred_c = automl.predict(X_test_estimated_c_processed)\n",
    "# Combine the predictions\n",
    "y_pred = get_final_prediction(y_pred_a, y_pred_b, y_pred_c)\n"
   ]
  },
  {
   "cell_type": "code",
   "execution_count": null,
   "metadata": {},
   "outputs": [],
   "source": [
    "# Save the model\n",
    "from src.models.saving import save_predictions\n",
    "\n",
    "save_predictions(y_pred, 'AutoML mljar Supervised ')"
   ]
  }
 ],
 "metadata": {
  "kernelspec": {
   "display_name": "venv",
   "language": "python",
   "name": "python3"
  },
  "language_info": {
   "codemirror_mode": {
    "name": "ipython",
    "version": 3
   },
   "file_extension": ".py",
   "mimetype": "text/x-python",
   "name": "python",
   "nbconvert_exporter": "python",
   "pygments_lexer": "ipython3",
   "version": "3.9.13"
  },
  "orig_nbformat": 4
 },
 "nbformat": 4,
 "nbformat_minor": 2
}
